{
 "cells": [
  {
   "cell_type": "markdown",
   "metadata": {},
   "source": [
    "<div style=\"background-color: #EEEFFF; padding: 10px;\">\n",
    "\\begin{align*}\n",
    "    \\Large{(2025)}\n",
    "\\end{align*}\n",
    "\n",
    "\\begin{align*}\n",
    "    \\Large{Information\\hspace{0.3cm} Fusion}\n",
    " \\end{align*}"
   ]
  },
  {
   "cell_type": "markdown",
   "metadata": {},
   "source": [
    "\\begin{align*}\n",
    "    \\Large{Fusion-Enhanced\\hspace{0.3cm} Multi-Label  \\hspace{0.3cm}Feature \\hspace{0.3cm} Selection  \\hspace{0.3cm} With  \\hspace{0.3cm} Sparse  \\hspace{0.3cm}Supplementation}\n",
    "\\end{align*}\n",
    "\n",
    "\\begin{align*}\n",
    "    \\Large{\\min_W\\lVert \\textbf{XW} - \\textbf{Y} \\lVert} + \\alpha \\mathrm{Tr}(\\textbf{WLW}^\\top) + \\beta\\lVert\\textbf{W}\\lVert_{2,1} + \\gamma(\\lVert \\textbf{WW}^\\top\\lVert_1 - \\lVert \\textbf{W} \\lVert^2_F)  \\quad\\quad {\\text{s.t.}\\quad} \\textbf{W}\\geq 0\n",
    "\\end{align*}\n",
    "\n",
    "\n",
    "\n",
    "\n",
    "\n",
    "$ $"
   ]
  },
  {
   "cell_type": "code",
   "execution_count": 1,
   "metadata": {
    "scrolled": true
   },
   "outputs": [],
   "source": [
    "import os\n",
    "import torch\n",
    "import json\n",
    "import numpy as np\n",
    "from tqdm import tqdm\n",
    "import matplotlib.pyplot as plt\n",
    "from pathlib import Path\n",
    "from scipy.io import loadmat\n",
    "from sklearn.cluster import KMeans\n",
    "from skmultilearn.adapt import MLkNN\n",
    "from sklearn.metrics import f1_score\n",
    "from sklearn.metrics import precision_score\n",
    "from sklearn.metrics import label_ranking_loss\n",
    "from sklearn.metrics import hamming_loss\n",
    "from sklearn.metrics import average_precision_score\n",
    "from sklearn.metrics import coverage_error\n",
    "from sklearn.metrics import zero_one_loss\n",
    "import sklearn\n",
    "from numpy.matlib import repmat\n",
    "import pandas as pd\n",
    "import warnings\n",
    "from sklearn.svm import LinearSVC\n",
    "from sklearn.multiclass import OneVsRestClassifier\n",
    "from sklearn.svm import SVC\n",
    "warnings.filterwarnings('ignore')"
   ]
  },
  {
   "cell_type": "code",
   "execution_count": 2,
   "metadata": {},
   "outputs": [
    {
     "name": "stdout",
     "output_type": "stream",
     "text": [
      "CPU\n"
     ]
    }
   ],
   "source": [
    "## GPU or CPU\n",
    "\n",
    "GPU = False\n",
    "if GPU:\n",
    "    torch.backends.cudnn.enabled = True\n",
    "    torch.backends.cudnn.benchmark = True\n",
    "    os.environ['CUDA_VISIBLE_DEVICES'] = '0'\n",
    "    print(\"num GPUs\", torch.cuda.device_count())\n",
    "    dtype = torch.cuda.FloatTensor\n",
    "else:\n",
    "    dtype = torch.FloatTensor\n",
    "    print(\"CPU\")\n",
    "    "
   ]
  },
  {
   "cell_type": "code",
   "execution_count": 3,
   "metadata": {},
   "outputs": [],
   "source": [
    "def corr(Y):\n",
    "    C = sklearn.metrics.pairwise.cosine_similarity(Y.T)\n",
    "    Dc = np.diag(np.sum(C, axis=1))\n",
    "    \n",
    "    return C, Dc"
   ]
  },
  {
   "cell_type": "code",
   "execution_count": 4,
   "metadata": {
    "scrolled": false
   },
   "outputs": [
    {
     "name": "stdout",
     "output_type": "stream",
     "text": [
      "\n",
      " MLkNN Classifier:\n",
      "\n",
      " Micro-F1: 0.3126222355950053 \n",
      " Macro-F1: 0.15221819996401031 \n",
      " Average Precision: 0.33971767546579673 \n",
      " Hamming Loss: 0.058576923076923075 \n",
      " Ranking Loss: 0.219754663520228 \n",
      " Zero-One Loss: 0.8003333333333333 \n",
      " Coverage Error: 8.298333333333334\n",
      "\n",
      " SVM Classifier:\n",
      "\n",
      " Micro-F1: 0.3198599618077657 \n",
      " Macro-F1: 0.14176939705511035 \n",
      " Hamming Loss: 0.054794871794871795 \n",
      " Zero-One Loss: 0.8113333333333334\n"
     ]
    },
    {
     "data": {
      "image/png": "[encoded data removed]",
      "text/plain": [
       "<Figure size 432x288 with 1 Axes>"
      ]
     },
     "metadata": {
      "needs_background": "light"
     },
     "output_type": "display_data"
    }
   ],
   "source": [
    "\n",
    "datasetML = ['Arts','Science','Entertainment','Health','Recreation' ,'Reference','Social','Society','Corel5k','Business','Education']\n",
    "\n",
    "for db in range(0,1):\n",
    "    \n",
    "    dataset_name = Path(f'{datasetML[db]}').stem\n",
    "    data = loadmat(f'../../datasets/{datasetML[db]}')\n",
    "    train = data['train']\n",
    "    test = data['test']\n",
    "\n",
    "    X_test = train[0][0].T\n",
    "    Y_test = train[0][1].T\n",
    "    Y_test[Y_test == -1] = 0\n",
    "\n",
    "    X = torch.from_numpy(test[0][0].T).type(dtype)\n",
    "\n",
    "    Y = torch.from_numpy(test[0][1].T).type(dtype)\n",
    "    Y[Y == -1] = 0\n",
    "\n",
    "    Ycn = Y.cpu().numpy()\n",
    "    Xc = test[0][0].T\n",
    "\n",
    "    #Feature\n",
    "    n,d = X.shape\n",
    "    #label\n",
    "    n,l = Y.shape\n",
    "\n",
    "    #label correlation\n",
    "    epsilon = torch.tensor(torch.finfo(torch.float32).eps)\n",
    "    \n",
    "    #cosine simmilarity :\n",
    "    S,A = corr(Y)\n",
    "    L = A-S\n",
    "\n",
    "#     alpha  = [0.01,0.1,0.3,0.5,0.7,0.9,1]\n",
    "#     beta   = [0.01,0.1,0.3,0.5,0.7,0.9,1]\n",
    "#     gamma  = [0.01,0.1,0.3,0.5,0.7,0.9,1]\n",
    "\n",
    "    alpha = [0.1]\n",
    "    beta  = [0.1]\n",
    "    gamma = [0.1]\n",
    "\n",
    "    t=30\n",
    "    for a in alpha:\n",
    "        for b in beta:\n",
    "            for g in gamma:\n",
    "                erro= torch.zeros(t)\n",
    "                for avg in range(1):\n",
    "                    dd =torch.ones((d,d))\n",
    "                    W = torch.rand(d,l)\n",
    "                    for i in range(t):\n",
    "                        D  = torch.diag(1 / (2 * torch.norm(W, dim=1) + epsilon))\n",
    "                        Up = (X.T @ Y + a * (W @ S) + g * (W))\n",
    "                        Dw = (X.T @ X @ W + a * ( W @ A) + b * (D @ W) + g * (dd @ W))\n",
    "                        W  = W * (Up / torch.maximum(Dw , epsilon))\n",
    "\n",
    "                        T1 = torch.norm(X @ W - Y) ** 2\n",
    "                        T2 = a * (torch.trace(W @ (1-S) @ W.T))\n",
    "                        T3 = b  * (torch.sum(torch.norm(W, dim=1)))\n",
    "                        T4 = g * (torch.sum(torch.abs(W.T @ W)) - torch.norm(W)**2)\n",
    "                        erro[i] = T1 + T2 + T3 + T4 \n",
    "\n",
    "                    plt.title('Convergence', fontsize=18)\n",
    "                    plt.plot(erro[:],color=\"#cf3952\")\n",
    "                    WW = torch.norm(W, dim=1, p=2)\n",
    "                    sQ = torch.argsort(WW)\n",
    "                    sQ = sQ.cpu()\n",
    "\n",
    "                    nosf = int (20 * d / 100)\n",
    "                    sX = X[:,sQ[d-nosf:]]\n",
    "                    \n",
    "                    classifier = MLkNN(k=10)\n",
    "                    classifier.fit(sX, Ycn.astype(int))\n",
    "                    # predict\n",
    "                    predictions = classifier.predict(X_test[:,sQ[d-nosf:].long()]).toarray()\n",
    "                    scores = classifier.predict_proba(X_test[:,sQ[d-nosf:].long()]).toarray()\n",
    "                    MIC = f1_score(Y_test, predictions, average='micro')\n",
    "                    MAC = f1_score(Y_test, predictions, average='macro')\n",
    "                    AVP = average_precision_score(Y_test.T,scores.T)\n",
    "                    HML = hamming_loss(Y_test,predictions)\n",
    "                    RNL = label_ranking_loss(Y_test,scores)\n",
    "                    ZER = zero_one_loss(Y_test,predictions)\n",
    "                    CVE = coverage_error(Y_test,scores)\n",
    "                    print('\\n','MLkNN Classifier:')\n",
    "                    print('\\n','Micro-F1:',MIC,'\\n','Macro-F1:',MAC,'\\n','Average Precision:',AVP,'\\n','Hamming Loss:',HML,'\\n','Ranking Loss:',RNL,'\\n','Zero-One Loss:',ZER,'\\n','Coverage Error:',CVE)\n",
    "                    \n",
    "                    #SVM\n",
    "                    classifiervm = OneVsRestClassifier(LinearSVC())\n",
    "                    classifiervm.fit(sX, Ycn.astype(int))\n",
    "                    predictionsvm = classifiervm.predict(X_test[:,sQ[d-nosf:].long()])\n",
    "                    MICvm = f1_score(Y_test, predictionsvm, average='micro')\n",
    "                    MACvm = f1_score(Y_test, predictionsvm, average='macro')\n",
    "                    HMLvm = hamming_loss(Y_test,predictionsvm)\n",
    "                    ZERvm = zero_one_loss(Y_test,predictionsvm)\n",
    "                    print('\\n','SVM Classifier:')\n",
    "                    print('\\n','Micro-F1:',MICvm,'\\n','Macro-F1:',MACvm,'\\n','Hamming Loss:',HMLvm,'\\n','Zero-One Loss:',ZERvm)\n",
    "                    "
   ]
  },
  {
   "cell_type": "code",
   "execution_count": null,
   "metadata": {},
   "outputs": [],
   "source": []
  }
 ],
 "metadata": {
  "kernelspec": {
   "display_name": "Python 3",
   "language": "python",
   "name": "python3"
  },
  "language_info": {
   "codemirror_mode": {
    "name": "ipython",
    "version": 3
   },
   "file_extension": ".py",
   "mimetype": "text/x-python",
   "name": "python",
   "nbconvert_exporter": "python",
   "pygments_lexer": "ipython3",
   "version": "3.8.5"
  }
 },
 "nbformat": 4,
 "nbformat_minor": 5
}
